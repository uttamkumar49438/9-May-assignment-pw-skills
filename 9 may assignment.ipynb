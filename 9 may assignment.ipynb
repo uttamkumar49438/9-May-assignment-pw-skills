{
 "cells": [
  {
   "cell_type": "code",
   "execution_count": 39,
   "id": "ccee8a7e-7f5d-4fe8-a080-685f848af440",
   "metadata": {},
   "outputs": [
    {
     "name": "stdout",
     "output_type": "stream",
     "text": [
      "(0, 1, 2, 3, 4, 5)\n",
      "[12, 33, 'apple', 'pw skills', 222]\n",
      "0.12\n",
      "(0, 1, 2, 3)\n"
     ]
    }
   ],
   "source": [
    "\"\"\" create one variable containing following data type \"\"\"\n",
    "\n",
    "# string\n",
    "a1 = (0,1,2,3,4,5)\n",
    "\n",
    "# list\n",
    "a = [12, 33, \"apple\", \"pw skills\", 222]\n",
    "\n",
    "# float\n",
    "b = 0.12\n",
    "\n",
    "# tuple\n",
    "c = (0,1,2,3)\n",
    "\n",
    "\n",
    "\n",
    "\n",
    "\n",
    "print(a1),\n",
    "print(a),\n",
    "print(b),\n",
    "print(c)\n",
    "\n"
   ]
  },
  {
   "cell_type": "code",
   "execution_count": 19,
   "id": "729ac790-d41b-4e4e-a386-65a7f1e33abd",
   "metadata": {},
   "outputs": [
    {
     "name": "stdout",
     "output_type": "stream",
     "text": [
      "<class 'str'>\n",
      "<class 'str'>\n",
      "<class 'list'>\n",
      "<class 'int'>\n"
     ]
    }
   ],
   "source": [
    "\"\"\" given  are some variables contaning following data\n",
    "\n",
    "1) var1 = ''\n",
    "2) var2 = '[DS,ML,Python]'\n",
    "3) var3 = ['DS','ML','Python']\n",
    "4) var4 = 1   \"\"\"\n",
    "\n",
    "var1 = ''\n",
    "print(type(var1))\n",
    "\n",
    "var2 = '[DS,ML,Python]'\n",
    "print(type(var2))\n",
    "\n",
    "var3 = ['DS','ML','Python']\n",
    "print(type(var3))\n",
    "\n",
    "var4 = 1\n",
    "print(type(var4))\n"
   ]
  },
  {
   "cell_type": "code",
   "execution_count": 20,
   "id": "b27751aa-da76-4e29-bde8-b743698dc2e4",
   "metadata": {},
   "outputs": [
    {
     "name": "stdout",
     "output_type": "stream",
     "text": [
      "2.5\n",
      "1\n",
      "2\n",
      "25\n"
     ]
    }
   ],
   "source": [
    "\"\"\"Q3. Explain the use of the following operators using an example:\n",
    "\n",
    "(i)\t/\n",
    "\n",
    "(ii)\t% \n",
    "\n",
    "(iii)\t//\n",
    "\n",
    "(iv)\t** \"\"\"\n",
    "\n",
    "a = 5/2\n",
    "print(a)\n",
    "\n",
    "b = 5%2\n",
    "print(b)\n",
    "\n",
    "c = 5//2\n",
    "print(c)\n",
    "\n",
    "d = 5**2\n",
    "print(d)\n"
   ]
  },
  {
   "cell_type": "code",
   "execution_count": 30,
   "id": "4c5e2577-1932-4a3c-977a-325e6cef076f",
   "metadata": {},
   "outputs": [
    {
     "name": "stdout",
     "output_type": "stream",
     "text": [
      "<class 'int'>\n",
      "<class 'int'>\n",
      "<class 'int'>\n",
      "<class 'str'>\n",
      "<class 'str'>\n",
      "<class 'complex'>\n",
      "<class 'int'>\n",
      "<class 'int'>\n",
      "<class 'int'>\n",
      "<class 'int'>\n"
     ]
    }
   ],
   "source": [
    "\"\"\"Q4. Create a list of length 10 of your choice containing multiple types of data. Using for loop print the \n",
    "element and its data type \"\"\"\n",
    "\n",
    "n = [12, 21, 121, 'sigma', 'pw skills', 2+1j, 512, 159, 258, 654 ]\n",
    "\n",
    "for i in n:\n",
    "    print(type(i))\n"
   ]
  },
  {
   "cell_type": "code",
   "execution_count": null,
   "id": "1bde27e2-e259-407b-b945-a34773710d61",
   "metadata": {},
   "outputs": [],
   "source": [
    "\"\"\" Q5. Using a while loop, verify if the number A is purely divisible by number B and if so then how many \n",
    "times it can be divisible \"\"\"\n",
    "\n",
    "\n",
    "\n"
   ]
  },
  {
   "cell_type": "code",
   "execution_count": 35,
   "id": "68c4c2f2-31e8-4b19-93fd-c0ce63481652",
   "metadata": {},
   "outputs": [
    {
     "name": "stdout",
     "output_type": "stream",
     "text": [
      "not divisible by 3\n",
      "not divisible by 3\n",
      "divisible by 3\n",
      "divisible by 3\n",
      "not divisible by 3\n",
      "not divisible by 3\n",
      "not divisible by 3\n",
      "divisible by 3\n",
      "not divisible by 3\n",
      "not divisible by 3\n"
     ]
    }
   ],
   "source": [
    "\"\"\" Q6. Create a list containing 25 int type data. Using for loop and if-else condition print if the element is \n",
    "divisible by 3 or not. \"\"\"\n",
    "\n",
    "n = [8, 10, 12, 15, 14, 22, 25, 27, 31, 35]\n",
    "\n",
    "for i in n:\n",
    "    if i%3 == 0:\n",
    "        print('divisible by 3')\n",
    "        \n",
    "    else:\n",
    "        print('not divisible by 3')"
   ]
  },
  {
   "cell_type": "code",
   "execution_count": 37,
   "id": "089314df-8ff8-4d0a-bab4-ce78a0621796",
   "metadata": {},
   "outputs": [
    {
     "name": "stdout",
     "output_type": "stream",
     "text": [
      "[1, 2, 3, 4]\n"
     ]
    }
   ],
   "source": [
    "\"\"\" Q7. What do you understand about mutable and immutable data types? Give examples for both showing \n",
    "this property. \"\"\"\n",
    "\n",
    "\"\"\" immutable data types which can't be changed after it is created, like float, string, tuple .\n",
    "\n",
    "    mmutable data types which can be changed after it is created, like list \"\"\"\n",
    "\n",
    "\n",
    "\"\"\" tuple1 = (0, 1, 2, 3)\n",
    "    tuple1[0] = 4\n",
    "    print(tuple1) \"\"\"\n",
    "   \n",
    "\n",
    "my_list = [1, 2, 3]\n",
    "my_list.append(4)\n",
    "print(my_list)"
   ]
  },
  {
   "cell_type": "code",
   "execution_count": null,
   "id": "89141f04-cc8d-4886-b7a0-c920917981fd",
   "metadata": {},
   "outputs": [],
   "source": []
  }
 ],
 "metadata": {
  "kernelspec": {
   "display_name": "Python 3 (ipykernel)",
   "language": "python",
   "name": "python3"
  },
  "language_info": {
   "codemirror_mode": {
    "name": "ipython",
    "version": 3
   },
   "file_extension": ".py",
   "mimetype": "text/x-python",
   "name": "python",
   "nbconvert_exporter": "python",
   "pygments_lexer": "ipython3",
   "version": "3.10.8"
  }
 },
 "nbformat": 4,
 "nbformat_minor": 5
}
